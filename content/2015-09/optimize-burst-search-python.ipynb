{
 "cells": [
  {
   "cell_type": "markdown",
   "metadata": {},
   "source": [
    "> *Premature optimization is the root of all evil.*\n",
    "> <div align=\"right\"> Donald Knuth </div>\n",
    "\n",
    "In the analysis of freely-diffusing single-molecule experiments, \n",
    "burst search algorithm is the central step that allows identifying \n",
    "and quantify single molecule fluorescence. In this post, I use the \n",
    "sliding-window burst search algorithm \n",
    "([Fries 1998](http://dx.doi.org/10.1021/jp980965t)) as a real-world example to \n",
    "illustrate some typical optimization techniques commonly used in python, \n",
    "namely vectorization (numpy) and compilation to machine code (cython, numba).\n",
    "I will use a simplified burst search that saves only start and stop times\n",
    "of each burst. For a complete implementation see the \n",
    "[FRETBursts](http://tritemio.github.io/FRETBursts/) burst analysis \n",
    "software ([code here](https://github.com/tritemio/FRETBursts/tree/master/fretbursts/burstsearch)).\n",
    "\n",
    "As of why I choose python, you can read the famous Jake Vanderplas' post: \n",
    "[Why Python is the Last Language You'll Have To Learn](https://jakevdp.github.io/blog/2012/09/20/why-python-is-the-last/). \n",
    "Or, as John Cook synthetically put it:\n",
    "\n",
    "> I’d rather do mathematics in a general programming language than do general programming in a mathematical language.\n",
    "\n",
    "(from John's recent post \n",
    "[Scientific computing in Python](http://www.johndcook.com/blog/2015/07/16/scientific-computing-in-python/)).\n",
    "\n",
    "# Burst search\n",
    "\n",
    "Briefly, a burst search algorithm tries to identifies bursts in a long stream \n",
    "of events. In single-molecule fluorescence experiments, this stream is\n",
    "represented by photon arrival times (timestamps) with a resolution of a few \n",
    "nanoseconds.\n",
    "\n",
    "A common algorithm, introduced by the Seidel group\n",
    "([Fries 1998](http://dx.doi.org/10.1021/jp980965t)), consists in using a \n",
    "sliding windows of duration $T$ and identifying bursts when at least $m$ photons \n",
    "lie in this window.\n",
    "The final step of selecting bursts by size (counts, or number of photons)\n",
    "is computationally inexpensive and it will be ignored in this post.\n",
    "\n",
    "Numerically, we need to \"slide\" the window in discrete steps, and since \n",
    "the photon arrival times are stochastic, it makes sense to place\n",
    "the windows start in correspondence with each timestamp $t_i$ and check \n",
    "if there are at least $m$ photons between $t_i$ and $t_i + T$.\n",
    "\n",
    "But how can we \"check if there are at least $m$ photons between \n",
    "$t_i$ and $t_i + T$\"? In principle, we can count how many photons \n",
    "lie in the current time windows and start the burst when this number \n",
    "is $\\ge m$. \n",
    "This would require, for each timestamp $t_i$, looping through a variable\n",
    "number of timestamps ($n$), until $t_{i+n} - t_i >=T$ then check if \n",
    "$n >= m$. In total, we would loop through the full `timestamps` array many times.\n",
    "\n",
    "Equivalently, we can loop over consecutive m-tuple of photons, and \n",
    "test if the time difference between the last and the first timestamp \n",
    "is $\\le T$. This latter approach is much easier to implement and more\n",
    "efficient as it requires looping through the `timestamps` exactly once.\n",
    "\n",
    "For the sake of this post, we assume that each burst is characterized \n",
    "by only a start and stop time. Finally, since the number of bursts \n",
    "is not known in advance, we'll use a list to collect the bursts\n",
    "found during the search."
   ]
  },
  {
   "cell_type": "markdown",
   "metadata": {},
   "source": [
    "# Prepare the data\n",
    "\n",
    "To test different burst search implementation we can use a single-molecule FRET dataset [available on figshare](http://figshare.com/articles/Example_smFRET_data_files_in_Photon_HDF5_format/1456362). The file are in [Photon-HDF5](http://photon-hdf5.org), so we can load its content with a HDF5 library, such as [pytables](http://www.pytables.org/).\n",
    "\n",
    "For this post we only need to load the `timestamps` array, which is here converted in seconds:"
   ]
  },
  {
   "cell_type": "code",
   "execution_count": 1,
   "metadata": {
    "collapsed": true
   },
   "outputs": [],
   "source": [
    "import tables\n",
    "import numpy as np"
   ]
  },
  {
   "cell_type": "code",
   "execution_count": 2,
   "metadata": {
    "collapsed": true
   },
   "outputs": [],
   "source": [
    "filename = \"data/0023uLRpitc_NTP_20dT_0.5GndCl.hdf5\""
   ]
  },
  {
   "cell_type": "code",
   "execution_count": 3,
   "metadata": {
    "collapsed": false
   },
   "outputs": [],
   "source": [
    "with tables.open_file(filename) as h5file:\n",
    "    timestamps = h5file.root.photon_data.timestamps.read()\n",
    "    timestamps = timestamps*h5file.root.photon_data.timestamps_specs.timestamps_unit.read()"
   ]
  },
  {
   "cell_type": "code",
   "execution_count": 4,
   "metadata": {
    "collapsed": false
   },
   "outputs": [
    {
     "data": {
      "text/plain": [
       "array([  1.83558750e-03,   2.35056250e-03,   3.67655000e-03, ...,\n",
       "         5.99998296e+02,   5.99998472e+02,   5.99999442e+02])"
      ]
     },
     "execution_count": 4,
     "metadata": {},
     "output_type": "execute_result"
    }
   ],
   "source": [
    "timestamps"
   ]
  },
  {
   "cell_type": "code",
   "execution_count": 5,
   "metadata": {
    "collapsed": false
   },
   "outputs": [
    {
     "data": {
      "text/plain": [
       "2683962"
      ]
     },
     "execution_count": 5,
     "metadata": {},
     "output_type": "execute_result"
    }
   ],
   "source": [
    "timestamps.size"
   ]
  },
  {
   "cell_type": "markdown",
   "metadata": {},
   "source": [
    "# Implementation 1: for-loop\n",
    "\n",
    "The previously described algorithm can be expressed quite naturally with a for-loop:"
   ]
  },
  {
   "cell_type": "code",
   "execution_count": 6,
   "metadata": {
    "collapsed": false
   },
   "outputs": [],
   "source": [
    "def burst_search(times, m, T):\n",
    "    in_burst = False\n",
    "    bursts = []\n",
    "    for i in range(times.size - m - 1):\n",
    "        if times[i + m - 1] - times[i] <= T:\n",
    "            if not in_burst:\n",
    "                in_burst = True\n",
    "                start = times[i]\n",
    "        elif in_burst:\n",
    "            in_burst = False\n",
    "            bursts.append((start, times[i+m-1]))\n",
    "    return bursts"
   ]
  },
  {
   "cell_type": "markdown",
   "metadata": {},
   "source": [
    "The code is straightforward to read:\n",
    "\n",
    "1. the $i$ variable loops over the timestamps index\n",
    "2. if the $m$ consecutive photons starting at $t_i$ are within a window $\\le T$\n",
    "  1. if a burst is not already started, start the burst and save the start time\n",
    "3. Otherwise, if we are inside a burst, stop the burst and save the stop time\n",
    "\n",
    "Let's run it:"
   ]
  },
  {
   "cell_type": "code",
   "execution_count": 7,
   "metadata": {
    "collapsed": false
   },
   "outputs": [],
   "source": [
    "bursts_py = burst_search(timestamps, 10, 100e-6)"
   ]
  },
  {
   "cell_type": "code",
   "execution_count": 8,
   "metadata": {
    "collapsed": false
   },
   "outputs": [
    {
     "data": {
      "text/plain": [
       "18529"
      ]
     },
     "execution_count": 8,
     "metadata": {},
     "output_type": "execute_result"
    }
   ],
   "source": [
    "len(bursts_py)"
   ]
  },
  {
   "cell_type": "code",
   "execution_count": 9,
   "metadata": {
    "collapsed": false
   },
   "outputs": [
    {
     "name": "stdout",
     "output_type": "stream",
     "text": [
      "1 loops, best of 3: 935 ms per loop\n"
     ]
    }
   ],
   "source": [
    "%timeit burst_search(timestamps, 10, 100e-6)"
   ]
  },
  {
   "cell_type": "markdown",
   "metadata": {},
   "source": [
    "So, we found 18529 bursts and the execution took around a second. \n",
    "It seems we got the results \"fast enough\". However, \n",
    "when dealing with larger files (longer measurement, multi-spot, etc...) \n",
    "or when we need to interactively explore the effect of burst serach \n",
    "parameters on burst populations\n",
    "we need a faster burst search.\n",
    "\n",
    "Next sections show various optimization approches."
   ]
  },
  {
   "cell_type": "markdown",
   "metadata": {},
   "source": [
    "# Implementation 2: for-loop compiled\n",
    "\n",
    "First step of optimization is always identifying the \n",
    "[bottlenecks](https://en.wikipedia.org/wiki/Bottleneck_(software). \n",
    "In this case, the looping over >2 millions of elements and \n",
    "computing `times[i+m] - times[i] <= T` at each cycle is where\n",
    "the function spends the most time. The list-appending\n",
    "adds a negligible time since is performed once per burst\n",
    "(not at each cycle).\n",
    "\n",
    "We can confirm this analysis by running `line_profiler`\n",
    "(install it through PIP or conda), which gives a line-by-line\n",
    "measure of the execution time.\n",
    "\n",
    "For a more detailed overview of different profiling techniques\n",
    "see the excellent Cyrille Rossant's post \n",
    "[Profiling and optimizing Python code](http://cyrille.rossant.net/profiling-and-optimizing-python-code/)."
   ]
  },
  {
   "cell_type": "code",
   "execution_count": 10,
   "metadata": {
    "collapsed": false
   },
   "outputs": [],
   "source": [
    "%load_ext line_profiler"
   ]
  },
  {
   "cell_type": "code",
   "execution_count": 11,
   "metadata": {
    "collapsed": false
   },
   "outputs": [],
   "source": [
    "%lprun -f burst_search burst_search(timestamps, 10, 100e-6)"
   ]
  },
  {
   "cell_type": "markdown",
   "metadata": {},
   "source": [
    "```\n",
    "Timer unit: 1e-06 s\n",
    "\n",
    "Total time: 4.50356 s\n",
    "File: <ipython-input-6-e29550a3433a>\n",
    "Function: burst_search at line 1\n",
    "\n",
    "Line #      Hits         Time  Per Hit   % Time  Line Contents\n",
    "==============================================================\n",
    "     1                                           def burst_search(times, m, T):\n",
    "     2         1            1      1.0      0.0      in_burst = False\n",
    "     3         1            1      1.0      0.0      bursts = []\n",
    "     4   2683952      1166986      0.4     25.9      for i in range(times.size - m - 1):\n",
    "     5   2683951      2176824      0.8     48.3          if times[i + m - 1] - times[i] <= T:\n",
    "     6    232747       101596      0.4      2.3              if not in_burst:\n",
    "     7     18529         7970      0.4      0.2                  in_burst = True\n",
    "     8     18529        10306      0.6      0.2                  start = times[i]\n",
    "     9   2451204      1017383      0.4     22.6          elif in_burst:\n",
    "    10     18529         8031      0.4      0.2              in_burst = False\n",
    "    11     18529        14458      0.8      0.3              bursts.append((start, times[i+m-1]))\n",
    "    12         1            0      0.0      0.0      return bursts\n",
    "```    \n",
    "    \n",
    "The profiler comfirms that >95% of the time is spent\n",
    "looping and branching, (which includes computing \n",
    "`times[i + m - 1] - times[i] <= T`).\n",
    "It was was surprising, for me, to find that the simple \n",
    "branching (see line 9) account for a significant fraction of \n",
    "the total time.\n",
    "\n",
    "The `burst_search()` function has a \"hot\" for-loop containing \n",
    "an if-else branching that depends on array elements computations. \n",
    "This is an example where removing the loop through vectorization is \n",
    "not trivial. \n",
    "Therefore the \"cure\" is compiling the function \n",
    "to machine code. This can be achieved by using cython.\n",
    "\n",
    "Cython extends the python syntax, and allows to \n",
    "statically translate python to C (that, eventually, needs to be compiled to \n",
    "machine code).  \n",
    "To gain speed, we specify the types for variables used\n",
    "inside the loop, loosing indeed some dynamic-typing. In this case, we know \n",
    "that `timestamps` is an float64 array.\n",
    "\n",
    "The cython version of the previous algorithm becomes:"
   ]
  },
  {
   "cell_type": "code",
   "execution_count": 12,
   "metadata": {
    "collapsed": false
   },
   "outputs": [],
   "source": [
    "%load_ext Cython"
   ]
  },
  {
   "cell_type": "code",
   "execution_count": 13,
   "metadata": {
    "collapsed": false
   },
   "outputs": [],
   "source": [
    "%%cython\n",
    "cimport numpy as np\n",
    "\n",
    "def burst_search_cy(np.float64_t[:] times, np.int16_t m, np.float64_t T):\n",
    "    cdef int i\n",
    "    cdef np.float64_t start\n",
    "    cdef np.uint8_t in_bursts\n",
    "    \n",
    "    in_burst = 0\n",
    "    bursts = []\n",
    "    for i in range(times.size - m - 1):\n",
    "        if times[i + m - 1] - times[i] <= T:\n",
    "            if not in_burst:\n",
    "                in_burst = 1\n",
    "                start = times[i]\n",
    "        elif in_burst:\n",
    "            in_burst = 0\n",
    "            bursts.append((start, times[i+m-1]))\n",
    "    return bursts"
   ]
  },
  {
   "cell_type": "markdown",
   "metadata": {},
   "source": [
    "In the Jupyter notebook, we use the `%%cython` \n",
    "[magic command](https://ipython.org/ipython-doc/dev/interactive/tutorial.html) \n",
    "(included in the `cython` package) to easily compile the function.\n",
    "Outside the notebook, we can setup `distutils` (or `setuptools`) to handle the\n",
    "compilation step (see [cython documentation](http://docs.cython.org/)).\n",
    "\n",
    "Apart from the boiler-plate import, I added type definitions to \n",
    "the function arguments. The cython types have the same name as \n",
    "numpy types with and additional `_t`. For the first argument\n",
    "which is an array we use the syntax `np.float64_t[:] times`\n",
    "that defines a cython [Memoryview](http://docs.cython.org/src/userguide/memoryviews.html)\n",
    "(see also [Memoryview Benchmarks](https://jakevdp.github.io/blog/2012/08/08/memoryview-benchmarks/)).\n",
    "\n",
    "Let's run the cython function:"
   ]
  },
  {
   "cell_type": "code",
   "execution_count": 14,
   "metadata": {
    "collapsed": true
   },
   "outputs": [],
   "source": [
    "bursts_cy = burst_search_cy(timestamps, 10, 100e-6)"
   ]
  },
  {
   "cell_type": "code",
   "execution_count": 15,
   "metadata": {
    "collapsed": false
   },
   "outputs": [],
   "source": [
    "assert bursts_cy == bursts_py"
   ]
  },
  {
   "cell_type": "code",
   "execution_count": 16,
   "metadata": {
    "collapsed": false
   },
   "outputs": [
    {
     "name": "stdout",
     "output_type": "stream",
     "text": [
      "100 loops, best of 3: 8.19 ms per loop\n"
     ]
    }
   ],
   "source": [
    "%timeit burst_search_cy(timestamps, 10, 100e-6)"
   ]
  },
  {
   "cell_type": "markdown",
   "metadata": {},
   "source": [
    "Note that the cython version executes in just ~10ms, a whooping \n",
    "100x speed increase compared to the pure python version. And all \n",
    "we have done is adding a few variable declarations!\n",
    "\n",
    "Another optimization tool emegerged in the last couple of years is \n",
    "Numba. Numba is a Just-in-Time (JIT) compiler which analyze the code \n",
    "during the execution and translates it to machine code on-fly. Under \n",
    "the hood it uses the [LLVM compiler](https://en.wikipedia.org/wiki/LLVM) \n",
    "to translate python function to machine code.\n",
    "\n",
    "In principle, numba can perform more advanced optimizations than \n",
    "cython and there are, in some cases, reports of 2x speed improvements \n",
    "vs cython.\n",
    "\n",
    "Numba is even easier than cython to use, requiring only a single \n",
    "additional line, which is the decorator `@numba.jit`. Our example \n",
    "in numba becomes:"
   ]
  },
  {
   "cell_type": "code",
   "execution_count": 17,
   "metadata": {
    "collapsed": true
   },
   "outputs": [],
   "source": [
    "import numba"
   ]
  },
  {
   "cell_type": "code",
   "execution_count": 18,
   "metadata": {
    "collapsed": false
   },
   "outputs": [],
   "source": [
    "@numba.jit\n",
    "def burst_search_numba(times, m, T):\n",
    "    in_burst = False\n",
    "    bursts = []\n",
    "    start = 0.\n",
    "    for i in range(times.size - m - 1):\n",
    "        if times[i + m - 1] - times[i] <= T:\n",
    "            if not in_burst:\n",
    "                in_burst = True\n",
    "                start = times[i]\n",
    "        elif in_burst:\n",
    "            in_burst = False\n",
    "            bursts.append((start, times[i+m-1]))\n",
    "    return bursts"
   ]
  },
  {
   "cell_type": "markdown",
   "metadata": {},
   "source": [
    "Preatty neat.\n",
    "\n",
    "The current drawback of using numba is that the automatic type \n",
    "inference does not work 100% of the times yet (remember that Numba \n",
    "is a relatively new project but evolving at an impressive pace). \n",
    "For example, in the previous function I had to add the line `start = 0.` \n",
    "to help numba infer the type of the `start` variable (an error is \n",
    "raised otherwise).\n",
    "\n",
    "Also, in this particular case, numba does not show any speed \n",
    "improvement compared to the pure python version:"
   ]
  },
  {
   "cell_type": "code",
   "execution_count": 19,
   "metadata": {
    "collapsed": false,
    "scrolled": false
   },
   "outputs": [],
   "source": [
    "bursts_numba = burst_search_numba(timestamps, 10, 100e-6)"
   ]
  },
  {
   "cell_type": "code",
   "execution_count": 20,
   "metadata": {
    "collapsed": false,
    "scrolled": false
   },
   "outputs": [
    {
     "name": "stdout",
     "output_type": "stream",
     "text": [
      "1 loops, best of 3: 973 ms per loop\n"
     ]
    }
   ],
   "source": [
    "%timeit burst_search_numba(timestamps, 10, 100e-6)"
   ]
  },
  {
   "cell_type": "markdown",
   "metadata": {},
   "source": [
    "This \"slow\" execution happens because current numba (version 0.20) \n",
    "is not able to optimize this function to machine code and \n",
    "falls back to a pure python implementation.\n",
    "\n",
    "I'm not sure what prevents numba to optimize this function \n",
    "(hey numba experts, please leave a comment!), but I would not \n",
    "be surprised if this corner cases will be handled pretty soon."
   ]
  },
  {
   "cell_type": "markdown",
   "metadata": {},
   "source": [
    "# Implementation 3: vectorized numpy\n",
    "\n",
    "It may be not easily to spot at first glance, but we can also\n",
    "get a some speed-up using pure python + numpy. We will not \n",
    "completely remove the for-loop but we will move some heavy \n",
    "computation out of it.\n",
    "\n",
    "As shown before, the bottleneck is the operation \n",
    "`t[i+m] - t[i] <= T`. In particular the array element access \n",
    "is quite slow.\n",
    "\n",
    "At cost of higher memory usage we can perform the difference \n",
    "outside the loop:"
   ]
  },
  {
   "cell_type": "code",
   "execution_count": 21,
   "metadata": {
    "collapsed": false
   },
   "outputs": [],
   "source": [
    "def burst_search_numpy1(times, m, T):\n",
    "    in_burst = False\n",
    "    bursts = []\n",
    "    delta_t = (times[m-1:] - times[:times.size-m+1])\n",
    "    for i in range(times.size-m+1):\n",
    "        if delta_t[i] <= T:\n",
    "            if not in_burst:\n",
    "                in_burst = True\n",
    "                start = times[i]\n",
    "        elif in_burst:\n",
    "            in_burst = False\n",
    "            bursts.append((start, times[i+m-1]))\n",
    "    return bursts"
   ]
  },
  {
   "cell_type": "code",
   "execution_count": 22,
   "metadata": {
    "collapsed": false
   },
   "outputs": [
    {
     "name": "stdout",
     "output_type": "stream",
     "text": [
      "1 loops, best of 3: 416 ms per loop\n"
     ]
    }
   ],
   "source": [
    "bursts_numpy1 = burst_search_numpy1(timestamps, 10, 100e-6)\n",
    "assert bursts_numpy1 == bursts_py\n",
    "%timeit burst_search_numpy1(timestamps, 10, 100e-6)"
   ]
  },
  {
   "cell_type": "markdown",
   "metadata": {},
   "source": [
    "we got a 2x speed improvement, not bad. \n",
    "\n",
    "Thinking further on this line, we can also move the comparison \n",
    "outside the loop:"
   ]
  },
  {
   "cell_type": "code",
   "execution_count": 23,
   "metadata": {
    "collapsed": true
   },
   "outputs": [],
   "source": [
    "def burst_search_numpy2(times, m, T):\n",
    "    in_burst = False\n",
    "    bursts = []\n",
    "    above_min_rate = (times[m-1:] - times[:times.size-m+1]) <= T\n",
    "    for i in range(times.size-m+1):\n",
    "        test = above_min_rate[i]\n",
    "        if test:\n",
    "            if not in_burst:\n",
    "                in_burst = True\n",
    "                start = times[i]\n",
    "        elif in_burst:\n",
    "            in_burst = False\n",
    "            bursts.append((start, times[i+m-1]))\n",
    "    return bursts"
   ]
  },
  {
   "cell_type": "code",
   "execution_count": 24,
   "metadata": {
    "collapsed": false
   },
   "outputs": [
    {
     "name": "stdout",
     "output_type": "stream",
     "text": [
      "1 loops, best of 3: 281 ms per loop\n"
     ]
    }
   ],
   "source": [
    "bursts_numpy2 = burst_search_numpy2(timestamps, 10, 100e-6)\n",
    "assert bursts_numpy2 == bursts_py\n",
    "%timeit burst_search_numpy2(timestamps, 10, 100e-6)"
   ]
  },
  {
   "cell_type": "markdown",
   "metadata": {},
   "source": [
    "The line profiler shows that the simple item access (line 6) takes 30% of the time.\n",
    "This is not surprising because numpy has some overhead when accessing a single\n",
    "element because of all the fancy indexing it supports. Since here we are simply\n",
    "iterating over all the elements we can use the iterator to get the array elements.\n"
   ]
  },
  {
   "cell_type": "code",
   "execution_count": 25,
   "metadata": {
    "collapsed": false
   },
   "outputs": [],
   "source": [
    "def burst_search_numpy3(times, m, T):\n",
    "    in_burst = False\n",
    "    bursts = []\n",
    "    \n",
    "    max_index = times.size-m+1\n",
    "    above_min_rate = ((times[m-1:] - times[:max_index]) <= T)[:max_index]\n",
    "    \n",
    "    for i, above_min_rate_ in enumerate(above_min_rate):\n",
    "        if above_min_rate_:\n",
    "            if not in_burst:\n",
    "                in_burst = True\n",
    "                start = times[i]\n",
    "        elif in_burst:\n",
    "            in_burst = False\n",
    "            bursts.append((start, times[i+m-1]))\n",
    "    return bursts"
   ]
  },
  {
   "cell_type": "code",
   "execution_count": 26,
   "metadata": {
    "collapsed": false
   },
   "outputs": [
    {
     "name": "stdout",
     "output_type": "stream",
     "text": [
      "1 loops, best of 3: 223 ms per loop\n"
     ]
    }
   ],
   "source": [
    "bursts_numpy3 = burst_search_numpy3(timestamps, 10, 100e-6)\n",
    "assert bursts_numpy3 == bursts_py\n",
    "%timeit burst_search_numpy3(timestamps, 10, 100e-6)"
   ]
  },
  {
   "cell_type": "markdown",
   "metadata": {},
   "source": [
    "Finally, we can optimize line 13, the else branch that is executed at almost every cycle.\n",
    "To avoid this test we can slightly unwrap the loop:\n",
    "\n",
    "- first we `continue` if not above the rate.\n",
    "- when \"not continuing\", we are inside a burst and we do a mini internal loop until the burst is over\n",
    "- the main loop resumes from a position updated by the inner loop\n",
    "\n",
    "The trick is using the same iterator in the two nested loops:"
   ]
  },
  {
   "cell_type": "code",
   "execution_count": 27,
   "metadata": {
    "collapsed": true
   },
   "outputs": [],
   "source": [
    "def burst_search_numpy4(times, m, T):\n",
    "    bursts = []\n",
    "    \n",
    "    max_index = times.size-m+1\n",
    "    above_min_rate = ((times[m-1:] - times[:max_index]) <= T)[:max_index]\n",
    "\n",
    "    it = enumerate(above_min_rate)\n",
    "    for i, above_min_rate_ in it:\n",
    "        if not above_min_rate_: continue           \n",
    "        \n",
    "        start = times[i]\n",
    "        for i, above_min_rate_ in it:\n",
    "            if not above_min_rate_: break\n",
    "        \n",
    "        bursts.append((start, times[i+m-1]))\n",
    "    return bursts"
   ]
  },
  {
   "cell_type": "code",
   "execution_count": 28,
   "metadata": {
    "collapsed": false
   },
   "outputs": [
    {
     "name": "stdout",
     "output_type": "stream",
     "text": [
      "1 loops, best of 3: 205 ms per loop\n"
     ]
    }
   ],
   "source": [
    "bursts_numpy4 = burst_search_numpy4(timestamps, 10, 100e-6)\n",
    "assert bursts_numpy4 == bursts_py\n",
    "%timeit burst_search_numpy4(timestamps, 10, 100e-6)"
   ]
  },
  {
   "cell_type": "markdown",
   "metadata": {},
   "source": [
    "This last two optimizations cut another 25% to the execution time.\n",
    "More importantly, the code is easier to read, mainly because\n",
    "we eliminated the state variable `in_burst`.\n",
    "\n",
    "# Conclusion\n",
    "\n",
    "We started with a direct pure-python algorithm implementation and we found\n",
    "how to optimize it in cython obtaining a 100x (100 folds) speed-up.\n",
    "\n",
    "The burst search algorithm is not easy to vectorize, but \n",
    "a careful analysis of the bottlenecks allowed \n",
    "to obtain a 5x speed-up using only python + numpy.\n",
    "\n",
    "In most of cases, the speed of a python + numpy implementation \n",
    "is more than enough. For rare performance-critical functions, \n",
    "C-level performances can be achieved by using cython or numba.\n",
    "\n",
    "But optimization must always be performed as last step, and only\n",
    "focusing on the bottlenecks highlighted by the profiler.\n",
    "When in doubt, prefer clarity over speed.\n",
    "\n",
    "# See also\n",
    "\n",
    "- [FRETBursts](http://tritemio.github.io/FRETBursts/) A burst analysis \n",
    "  software implementing the techniques illustrated in this post \n",
    "  in a more complete real-world scenario."
   ]
  },
  {
   "cell_type": "code",
   "execution_count": null,
   "metadata": {
    "collapsed": true
   },
   "outputs": [],
   "source": []
  }
 ],
 "metadata": {
  "kernelspec": {
   "display_name": "Python 3",
   "language": "python",
   "name": "python3"
  },
  "language_info": {
   "codemirror_mode": {
    "name": "ipython",
    "version": 3
   },
   "file_extension": ".py",
   "mimetype": "text/x-python",
   "name": "python",
   "nbconvert_exporter": "python",
   "pygments_lexer": "ipython3",
   "version": "3.4.3"
  }
 },
 "nbformat": 4,
 "nbformat_minor": 0
}
