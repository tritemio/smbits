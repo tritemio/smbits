{
 "cells": [
  {
   "cell_type": "markdown",
   "metadata": {},
   "source": [
    "> *Premature optimization is the root of all evil.*\n",
    "> <div align=\"right\"> Donald Knuth </div>\n",
    "\n",
    "In this post, we'll try to optimize the execution time of  \n",
    "the sliding-window burst search algorithm \n",
    "([Fries 1998](http://dx.doi.org/10.1021/jp980965t)) implemented in python. \n",
    "I will use several python optimization techniques, \n",
    "namely vectorization (numpy), \"loop unwrapping\" and compilation to machine code \n",
    "with Cython and Numba.\n",
    "\n",
    "As of why I choose python, you can read the famous Jake Vanderplas' post: \n",
    "[Why Python is the Last Language You'll Have To Learn](https://jakevdp.github.io/blog/2012/09/20/why-python-is-the-last/). \n",
    "Or, as John Cook synthetically put it:\n",
    "\n",
    "> I’d rather do mathematics in a general programming language than do general programming in a mathematical language.\n",
    "\n",
    "(from John's recent post \n",
    "[Scientific computing in Python](http://www.johndcook.com/blog/2015/07/16/scientific-computing-in-python/)).\n",
    "\n",
    "# Burst search\n",
    "\n",
    "To give some context, in the analysis of freely-diffusing single-molecule experiments, \n",
    "the burst search algorithm is the central step that allows identifying \n",
    "bursts of photon emitted by single molecules during their diffusion\n",
    "through an excitation volume.\n",
    "Here we use a simplified burst search that saves only start and stop times\n",
    "of each burst. For a complete implementation see the \n",
    "[FRETBursts](http://tritemio.github.io/FRETBursts/) burst analysis \n",
    "software ([code here](https://github.com/tritemio/FRETBursts/tree/master/fretbursts/burstsearch)).\n",
    "\n",
    "Briefly, a burst search algorithm tries to identifies bursts in a long stream \n",
    "of events. In single-molecule fluorescence experiments, this stream is\n",
    "represented by photon arrival times (timestamps) with a resolution of a few \n",
    "nanoseconds.\n",
    "\n",
    "A common algorithm, introduced by the Seidel group\n",
    "([Fries 1998](http://dx.doi.org/10.1021/jp980965t)), consists in using a \n",
    "sliding windows of duration $T$ and identifying bursts when at least $m$ photons \n",
    "lie in this window.\n",
    "The final step of selecting bursts by size (counts, or number of photons)\n",
    "is computationally inexpensive and it will be ignored in this post.\n",
    "\n",
    "Numerically, we need to \"slide\" the window in discrete steps, and since \n",
    "the photon arrival times are stochastic, it makes sense to place\n",
    "the windows start in correspondence with each timestamp $t_i$ and check \n",
    "if there are at least $m$ photons between $t_i$ and $t_i + T$.\n",
    "\n",
    "But how can we \"check if there are at least $m$ photons between \n",
    "$t_i$ and $t_i + T$\"? In principle, we can count how many photons \n",
    "lie in the current time windows and start the burst if there are at least $m$. \n",
    "This would require, for each timestamp $t_i$, looping through a variable\n",
    "number of timestamps ($n$), until $t_{i+n} - t_i >=T$ then check if \n",
    "$n >= m$. In total, we would loop through the full `timestamps` array many times.\n",
    "\n",
    "Equivalently, we can loop over consecutive m-tuple of photons, and \n",
    "test if the time difference between the last and the first timestamp \n",
    "is $\\le T$. This latter approach is much easier to implement and more\n",
    "efficient as it requires looping through the `timestamps` exactly once.\n",
    "\n",
    "For the sake of this post, we assume that each burst is characterized \n",
    "by only a start and stop time. Finally, since the number of bursts \n",
    "is not known in advance, we'll use a list to collect the bursts\n",
    "found during the search."
   ]
  },
  {
   "cell_type": "markdown",
   "metadata": {},
   "source": [
    "# Prepare the data\n",
    "\n",
    "To test different burst search implementation we can use a single-molecule FRET dataset [available on figshare](http://figshare.com/articles/Example_smFRET_data_files_in_Photon_HDF5_format/1456362). The file are in [Photon-HDF5](http://photon-hdf5.org), so we can load its content with a HDF5 library, such as [pytables](http://www.pytables.org/).\n",
    "\n",
    "For this post we only need to load the `timestamps` array, which is here converted in seconds:"
   ]
  },
  {
   "cell_type": "code",
   "execution_count": 1,
   "metadata": {
    "collapsed": true
   },
   "outputs": [],
   "source": [
    "import tables\n",
    "import numpy as np"
   ]
  },
  {
   "cell_type": "code",
   "execution_count": 2,
   "metadata": {
    "collapsed": true
   },
   "outputs": [],
   "source": [
    "filename = \"data/0023uLRpitc_NTP_20dT_0.5GndCl.hdf5\""
   ]
  },
  {
   "cell_type": "code",
   "execution_count": 3,
   "metadata": {
    "collapsed": false
   },
   "outputs": [],
   "source": [
    "with tables.open_file(filename) as h5file:\n",
    "    timestamps = h5file.root.photon_data.timestamps.read()\n",
    "    timestamps = timestamps*h5file.root.photon_data.timestamps_specs.timestamps_unit.read()"
   ]
  },
  {
   "cell_type": "code",
   "execution_count": 4,
   "metadata": {
    "collapsed": false
   },
   "outputs": [
    {
     "data": {
      "text/plain": [
       "array([  1.83558750e-03,   2.35056250e-03,   3.67655000e-03, ...,\n",
       "         5.99998296e+02,   5.99998472e+02,   5.99999442e+02])"
      ]
     },
     "execution_count": 4,
     "metadata": {},
     "output_type": "execute_result"
    }
   ],
   "source": [
    "timestamps"
   ]
  },
  {
   "cell_type": "code",
   "execution_count": 5,
   "metadata": {
    "collapsed": false
   },
   "outputs": [
    {
     "data": {
      "text/plain": [
       "2683962"
      ]
     },
     "execution_count": 5,
     "metadata": {},
     "output_type": "execute_result"
    }
   ],
   "source": [
    "timestamps.size"
   ]
  },
  {
   "cell_type": "markdown",
   "metadata": {},
   "source": [
    "# Implementation 1: for-loop\n",
    "\n",
    "The previously described algorithm can be expressed quite naturally with a for-loop:"
   ]
  },
  {
   "cell_type": "code",
   "execution_count": 6,
   "metadata": {
    "collapsed": false
   },
   "outputs": [],
   "source": [
    "def burst_search(times, m, T):\n",
    "    in_burst = False\n",
    "    bursts = []\n",
    "    for i in range(len(times) - m - 1):\n",
    "        if times[i + m - 1] - times[i] <= T:\n",
    "            if not in_burst:\n",
    "                in_burst = True\n",
    "                istart = i\n",
    "        elif in_burst:\n",
    "            in_burst = False\n",
    "            bursts.append((times[istart], times[i+m-1]))\n",
    "    return bursts"
   ]
  },
  {
   "cell_type": "markdown",
   "metadata": {},
   "source": [
    "The code is straightforward to read:\n",
    "\n",
    "1. the $i$ variable loops over the timestamps index\n",
    "2. if the $m$ consecutive photons starting at $t_i$ are within a window $\\le T$\n",
    "  1. if a burst is not already started, start the burst and save the start time\n",
    "3. Otherwise, if we are inside a burst, stop the burst and save the stop time\n",
    "\n",
    "Let's run it:"
   ]
  },
  {
   "cell_type": "code",
   "execution_count": 7,
   "metadata": {
    "collapsed": false
   },
   "outputs": [],
   "source": [
    "bursts_py = burst_search(timestamps, 10, 100e-6)"
   ]
  },
  {
   "cell_type": "code",
   "execution_count": 8,
   "metadata": {
    "collapsed": false
   },
   "outputs": [
    {
     "data": {
      "text/plain": [
       "18529"
      ]
     },
     "execution_count": 8,
     "metadata": {},
     "output_type": "execute_result"
    }
   ],
   "source": [
    "len(bursts_py)"
   ]
  },
  {
   "cell_type": "code",
   "execution_count": 9,
   "metadata": {
    "collapsed": false
   },
   "outputs": [
    {
     "name": "stdout",
     "output_type": "stream",
     "text": [
      "1 loops, best of 3: 1.04 s per loop\n"
     ]
    }
   ],
   "source": [
    "%timeit burst_search(timestamps, 10, 100e-6)"
   ]
  },
  {
   "cell_type": "markdown",
   "metadata": {},
   "source": [
    "So, we found 18529 bursts and the execution took around a second. \n",
    "It may seem we got the results \"fast enough\". However, \n",
    "when dealing with larger files (longer measurement, multi-spot, etc...) \n",
    "or when we need to interactively explore the effect of burst search \n",
    "parameters on burst populations we need a faster burst search.\n",
    "\n",
    "Next sections show various optimization approaches."
   ]
  },
  {
   "cell_type": "markdown",
   "metadata": {},
   "source": [
    "# Finding the bottlenecks\n",
    "\n",
    "First step of optimization is always identifying the \n",
    "[bottlenecks](https://en.wikipedia.org/wiki/Bottleneck_(software). \n",
    "\n",
    "To measure of the execution time line-by-line we can use \n",
    "`line_profiler` (install it through PIP or conda).\n",
    "\n",
    "For a more detailed overview of different profiling techniques\n",
    "see the excellent Cyrille Rossant's post \n",
    "[Profiling and optimizing Python code](http://cyrille.rossant.net/profiling-and-optimizing-python-code/).\n",
    "\n",
    "Here we load the profiler and run out function through it:"
   ]
  },
  {
   "cell_type": "code",
   "execution_count": 10,
   "metadata": {
    "collapsed": false
   },
   "outputs": [],
   "source": [
    "%load_ext line_profiler"
   ]
  },
  {
   "cell_type": "code",
   "execution_count": 11,
   "metadata": {
    "collapsed": false
   },
   "outputs": [],
   "source": [
    "%lprun -f burst_search burst_search(timestamps, 10, 100e-6)"
   ]
  },
  {
   "cell_type": "markdown",
   "metadata": {},
   "source": [
    "```\n",
    "Line #      Hits         Time  Per Hit   % Time  Line Contents\n",
    "==============================================================\n",
    "     1                                           def burst_search(times, m, T):\n",
    "     2         1            2      2.0      0.0      in_burst = False\n",
    "     3         1            1      1.0      0.0      bursts = []\n",
    "     4   2683952      1195136      0.4     25.9      for i in range(len(times) - m - 1):\n",
    "     5   2683951      2246412      0.8     48.6          if times[i + m - 1] - times[i] <= T:\n",
    "     6    232747       103669      0.4      2.2              if not in_burst:\n",
    "     7     18529         7924      0.4      0.2                  in_burst = True\n",
    "     8     18529         8029      0.4      0.2                  istart = i\n",
    "     9   2451204      1036893      0.4     22.4          elif in_burst:\n",
    "    10     18529         8080      0.4      0.2              in_burst = False\n",
    "    11     18529        16394      0.9      0.4              bursts.append((times[istart], times[i+m-1]))\n",
    "    12         1            1      1.0      0.0      return bursts\n",
    "```\n",
    "\n",
    "The most unespected result, for me, was to find that the simple branching \n",
    "(e.g. line 9) accounts for a significant 20% of execution time.\n",
    "Except for that, we see that looping over >2 millions of elements and \n",
    "computing `times[i+m] - times[i] <= T` (line 5) at each cycle is where\n",
    "the function spends the most time. The list-appending, conversely,\n",
    "adds a negligible contribution since it is performed once per burst\n",
    "(not at each cycle). \n",
    "\n",
    "Numpy array are notoriously slow when accessed element by element.\n",
    "Therefore a big portion of line 5 execution time may be due to numpy arrary indexing.\n",
    "We can prove this by expanding line 5 in multiple lines to separate the element \n",
    "access from comparison and branching:"
   ]
  },
  {
   "cell_type": "code",
   "execution_count": 12,
   "metadata": {
    "collapsed": true
   },
   "outputs": [],
   "source": [
    "def burst_search_profile(times, m, T):\n",
    "    in_burst = False\n",
    "    bursts = []\n",
    "    for i in range(len(times) - m - 1):\n",
    "        t2 = times[i + m - 1]\n",
    "        t1 = times[i]\n",
    "        rate_above_threshold = t2 - t1 <= T\n",
    "        if rate_above_threshold:\n",
    "            if not in_burst:\n",
    "                in_burst = True\n",
    "                istart = i\n",
    "        elif in_burst:\n",
    "            in_burst = False\n",
    "            bursts.append((times[istart], times[i+m-1]))\n",
    "    return bursts"
   ]
  },
  {
   "cell_type": "code",
   "execution_count": 13,
   "metadata": {
    "collapsed": true
   },
   "outputs": [],
   "source": [
    "%lprun -f burst_search_profile burst_search_profile(timestamps, 10, 100e-6)"
   ]
  },
  {
   "cell_type": "markdown",
   "metadata": {},
   "source": [
    "```\n",
    "Line #      Hits         Time  Per Hit   % Time  Line Contents\n",
    "==============================================================\n",
    "     1                                           def burst_search_profile(times, m, T):\n",
    "     2         1           20     20.0      0.0      in_burst = False\n",
    "     3         1            1      1.0      0.0      bursts = []\n",
    "     4   2683952      1303409      0.5     14.8      for i in range(len(times) - m - 1):\n",
    "     5   2683951      1806225      0.7     20.5          t2 = times[i + m - 1]\n",
    "     6   2683951      1526900      0.6     17.3          t1 = times[i]\n",
    "     7   2683951      1607583      0.6     18.2          rate_above_threshold = t2 - t1 <= T\n",
    "     8   2683951      1284202      0.5     14.5          if rate_above_threshold:\n",
    "     9    232747       111491      0.5      1.3              if not in_burst:\n",
    "    10     18529         8883      0.5      0.1                  in_burst = True\n",
    "    11     18529         8949      0.5      0.1                  istart = i\n",
    "    12   2451204      1142937      0.5     12.9          elif in_burst:\n",
    "    13     18529         8813      0.5      0.1              in_burst = False\n",
    "    14     18529        20464      1.1      0.2              bursts.append((times[istart], times[i+m-1]))\n",
    "    15         1            4      4.0      0.0      return bursts\n",
    "```\n",
    "\n",
    "We see that the array element access (lines 5 and 6) accounts for almost 40%\n",
    "of the total execution time. \n",
    "\n",
    "A workaround to reduce array element access time is using a `memoryview`\n",
    "(a [built-in python object](https://docs.python.org/3.5/library/stdtypes.html#memory-views))\n",
    "to access the data in the numpy array.\n",
    "Since the `memoryview` shares the data with the original numpy array\n",
    "we avoid wasting RAM and waiting for memory copying. \n",
    "Let's call the function `burst_search` passing a memoryview instead \n",
    "of a numpy array:"
   ]
  },
  {
   "cell_type": "code",
   "execution_count": 14,
   "metadata": {
    "collapsed": false
   },
   "outputs": [
    {
     "name": "stdout",
     "output_type": "stream",
     "text": [
      "1 loops, best of 3: 637 ms per loop\n"
     ]
    }
   ],
   "source": [
    "%timeit burst_search(memoryview(timestamps), 10, 100e-6)"
   ]
  },
  {
   "cell_type": "markdown",
   "metadata": {},
   "source": [
    "This little trick provides almost 40% speed increase,\n",
    "rendering the element access time negligible. Note, however, that is not\n",
    "always possible to use `memoryview` because it does not support\n",
    "all the advanced numpy indexing and array operations."
   ]
  },
  {
   "cell_type": "markdown",
   "metadata": {},
   "source": [
    "# Implementation 2: for-loop compiled\n",
    "\n",
    "\n",
    "The `burst_search()` function has a \"hot\" for-loop containing \n",
    "an if-else branching that depends on array elements computations. \n",
    "In this case, it is hard to devise an implementation for the classical technique \n",
    "of replacing the for-loop with vectorization (i.e. arrays operations). \n",
    "Therefore, the straighforward optimization path is compiling the function \n",
    "to machine code. This can be achieved by using [cython](http://cython.org/).\n",
    "\n",
    "Cython extends the python syntax, and allows to statically translate \n",
    "python to C (that, eventually, needs to be compiled to machine code).  \n",
    "To allows the compiler to optimize the function, we need to specify \n",
    "the types of the variables used inside the loop.\n",
    "\n",
    "The cython version of the previous algorithm is:"
   ]
  },
  {
   "cell_type": "code",
   "execution_count": 15,
   "metadata": {
    "collapsed": false
   },
   "outputs": [],
   "source": [
    "%load_ext Cython"
   ]
  },
  {
   "cell_type": "code",
   "execution_count": 16,
   "metadata": {
    "collapsed": false
   },
   "outputs": [],
   "source": [
    "%%cython\n",
    "cimport numpy as np\n",
    "\n",
    "def burst_search_cy(np.float64_t[:] times, np.int16_t m, np.float64_t T):\n",
    "    cdef int i\n",
    "    cdef np.int64_t istart\n",
    "    cdef np.uint8_t in_bursts\n",
    "    \n",
    "    in_burst = 0\n",
    "    bursts = []\n",
    "    for i in range(times.size - m - 1):\n",
    "        if times[i + m - 1] - times[i] <= T:\n",
    "            if not in_burst:\n",
    "                in_burst = 1\n",
    "                istart = i\n",
    "        elif in_burst:\n",
    "            in_burst = 0\n",
    "            bursts.append((times[istart], times[i+m-1]))\n",
    "    return bursts"
   ]
  },
  {
   "cell_type": "markdown",
   "metadata": {},
   "source": [
    "In the Jupyter notebook, we use the `%%cython` \n",
    "[magic command](https://ipython.org/ipython-doc/dev/interactive/tutorial.html) \n",
    "(included in the `cython` package) to easily compile the function.\n",
    "Outside the notebook, we can setup `distutils` (or `setuptools`) to handle the\n",
    "compilation step (see [cython documentation](http://docs.cython.org/)).\n",
    "\n",
    "Apart from the boiler-plate import, I added type definitions to \n",
    "the function arguments. The cython types have the same name as \n",
    "numpy types with and additional `_t`. For the first argument\n",
    "which is an array we use the syntax `np.float64_t[:] times`\n",
    "that defines a [Cython Memoryview](http://docs.cython.org/src/userguide/memoryviews.html)\n",
    "(like a python memoryview but faster).\n",
    "To read more about memoryviews see this post from Jake Vanderplas: [Memoryview Benchmarks](https://jakevdp.github.io/blog/2012/08/08/memoryview-benchmarks/).\n",
    "\n",
    "Let's run our cython function:"
   ]
  },
  {
   "cell_type": "code",
   "execution_count": 17,
   "metadata": {
    "collapsed": true
   },
   "outputs": [],
   "source": [
    "bursts_cy = burst_search_cy(timestamps, 10, 100e-6)"
   ]
  },
  {
   "cell_type": "code",
   "execution_count": 18,
   "metadata": {
    "collapsed": false
   },
   "outputs": [],
   "source": [
    "assert bursts_cy == bursts_py"
   ]
  },
  {
   "cell_type": "code",
   "execution_count": 19,
   "metadata": {
    "collapsed": false
   },
   "outputs": [
    {
     "name": "stdout",
     "output_type": "stream",
     "text": [
      "100 loops, best of 3: 8.72 ms per loop\n"
     ]
    }
   ],
   "source": [
    "%timeit burst_search_cy(timestamps, 10, 100e-6)"
   ]
  },
  {
   "cell_type": "markdown",
   "metadata": {},
   "source": [
    "Note that the execution time dropped to less than 10ms, a whooping \n",
    "100x speed increase compared to the pure python version. And all \n",
    "we have done is adding a few variable declarations!\n",
    "\n",
    "Another optimization tool emerged in the last couple of years is \n",
    "[Numba](http://numba.pydata.org/). \n",
    "Numba is a Just-in-Time (JIT) compiler which analyze code \n",
    "during execution and translates it to machine code on-fly. Under \n",
    "the hood it uses the [LLVM compiler](https://en.wikipedia.org/wiki/LLVM) \n",
    "to translate python function to machine code.\n",
    "\n",
    "In principle, numba can perform more advanced optimizations than \n",
    "cython and there are, in some cases, reports of 2x speed improvements \n",
    "vs cython.\n",
    "\n",
    "Numba is even easier than cython to use: we just need to add a single \n",
    "line to decorate the fuction (`@numba.jit`):"
   ]
  },
  {
   "cell_type": "code",
   "execution_count": 20,
   "metadata": {
    "collapsed": true
   },
   "outputs": [],
   "source": [
    "import numba"
   ]
  },
  {
   "cell_type": "code",
   "execution_count": 21,
   "metadata": {
    "collapsed": false
   },
   "outputs": [],
   "source": [
    "@numba.jit\n",
    "def burst_search_numba(times, m, T):\n",
    "    in_burst = False\n",
    "    bursts = []\n",
    "    istart = 0\n",
    "    for i in range(times.size - m - 1):\n",
    "        if times[i + m - 1] - times[i] <= T:\n",
    "            if not in_burst:\n",
    "                in_burst = True\n",
    "                istart = i\n",
    "        elif in_burst:\n",
    "            in_burst = False\n",
    "            bursts.append((times[istart], times[i+m-1]))\n",
    "    return bursts"
   ]
  },
  {
   "cell_type": "markdown",
   "metadata": {},
   "source": [
    "Differently from cython, numba code is just python code with no special syntax.\n",
    "\n",
    "Let's check the execution time:"
   ]
  },
  {
   "cell_type": "code",
   "execution_count": 22,
   "metadata": {
    "collapsed": false,
    "scrolled": false
   },
   "outputs": [],
   "source": [
    "bursts_numba = burst_search_numba(timestamps, 10, 100e-6)"
   ]
  },
  {
   "cell_type": "code",
   "execution_count": 23,
   "metadata": {
    "collapsed": false
   },
   "outputs": [],
   "source": [
    "assert bursts_numba == bursts_py"
   ]
  },
  {
   "cell_type": "code",
   "execution_count": 24,
   "metadata": {
    "collapsed": false,
    "scrolled": false
   },
   "outputs": [
    {
     "name": "stdout",
     "output_type": "stream",
     "text": [
      "100 loops, best of 3: 8.24 ms per loop\n"
     ]
    }
   ],
   "source": [
    "%timeit burst_search_numba(timestamps, 10, 100e-6)"
   ]
  },
  {
   "cell_type": "markdown",
   "metadata": {},
   "source": [
    "Like the cython version, numba version runs in less than 10 ms.\n",
    "\n",
    "You may have noticed an additional line (`istart = 0`) which\n",
    "I added to helps Numba to infer the type (knowing that `istart` \n",
    "is an int64 numba can do more aggressive optimizations). \n",
    "\n",
    "There are still some corner cases which Numba cannot\n",
    "optimize, but these cases are becoming fewer at each release. \n",
    "For example in the previous version 0.20, Numba was not able to optimize \n",
    "the present example (which was running at pure-python speed). \n",
    "With current Numba version (0.22), instead, we reaches pure-C speed\n",
    "probably thanks to the [new list optimizations](http://numba.pydata.org/numba-doc/0.22.1/release-notes.html)."
   ]
  },
  {
   "cell_type": "markdown",
   "metadata": {},
   "source": [
    "# Implementation 3: vectorized numpy\n",
    "\n",
    "We still optimize the pure python + numpy function. We will not \n",
    "completely remove the for-loop but we will move some heavy \n",
    "computation out of it.\n",
    "\n",
    "As shown before, the bottleneck is the operation \n",
    "`t[i+m] - t[i] <= T`. In particular the array element access \n",
    "is quite slow.\n",
    "\n",
    "At cost of higher memory usage we can perform the difference \n",
    "outside the loop:"
   ]
  },
  {
   "cell_type": "code",
   "execution_count": 25,
   "metadata": {
    "collapsed": false
   },
   "outputs": [],
   "source": [
    "def burst_search_numpy1(times, m, T):\n",
    "    in_burst = False\n",
    "    bursts = []\n",
    "    delta_t = (times[m-1:] - times[:times.size-m+1])\n",
    "    for i in range(times.size-m+1):\n",
    "        if delta_t[i] <= T:\n",
    "            if not in_burst:\n",
    "                in_burst = True\n",
    "                start = times[i]\n",
    "        elif in_burst:\n",
    "            in_burst = False\n",
    "            bursts.append((start, times[i+m-1]))\n",
    "    return bursts"
   ]
  },
  {
   "cell_type": "code",
   "execution_count": 26,
   "metadata": {
    "collapsed": false
   },
   "outputs": [
    {
     "name": "stdout",
     "output_type": "stream",
     "text": [
      "1 loops, best of 3: 465 ms per loop\n"
     ]
    }
   ],
   "source": [
    "bursts_numpy1 = burst_search_numpy1(timestamps, 10, 100e-6)\n",
    "assert bursts_numpy1 == bursts_py\n",
    "%timeit burst_search_numpy1(timestamps, 10, 100e-6)"
   ]
  },
  {
   "cell_type": "markdown",
   "metadata": {},
   "source": [
    "we got a 2x speed improvement, not bad. \n",
    "\n",
    "Thinking further on this lines, we can also move the comparison \n",
    "outside the loop:"
   ]
  },
  {
   "cell_type": "code",
   "execution_count": 27,
   "metadata": {
    "collapsed": true
   },
   "outputs": [],
   "source": [
    "def burst_search_numpy2(times, m, T):\n",
    "    in_burst = False\n",
    "    bursts = []\n",
    "    above_min_rate = (times[m-1:] - times[:times.size-m+1]) <= T\n",
    "    for i in range(len(times)-m+1):\n",
    "        if above_min_rate[i]:\n",
    "            if not in_burst:\n",
    "                in_burst = True\n",
    "                start = times[i]\n",
    "        elif in_burst:\n",
    "            in_burst = False\n",
    "            bursts.append((start, times[i+m-1]))\n",
    "    return bursts"
   ]
  },
  {
   "cell_type": "code",
   "execution_count": 28,
   "metadata": {
    "collapsed": false
   },
   "outputs": [
    {
     "name": "stdout",
     "output_type": "stream",
     "text": [
      "1 loops, best of 3: 271 ms per loop\n"
     ]
    }
   ],
   "source": [
    "bursts_numpy2 = burst_search_numpy2(timestamps, 10, 100e-6)\n",
    "assert bursts_numpy2 == bursts_py\n",
    "%timeit burst_search_numpy2(timestamps, 10, 100e-6)"
   ]
  },
  {
   "cell_type": "markdown",
   "metadata": {},
   "source": [
    "The line profiler shows that the simple item access (line 6) takes 30% of the time.\n",
    "This is not surprising because numpy has some overhead when accessing a single\n",
    "element because of all the fancy indexing it supports. Since here we are simply\n",
    "iterating over all the elements we can use the iterator to get the array elements.\n"
   ]
  },
  {
   "cell_type": "code",
   "execution_count": 29,
   "metadata": {
    "collapsed": false
   },
   "outputs": [],
   "source": [
    "def burst_search_numpy3(times, m, T):\n",
    "    in_burst = False\n",
    "    bursts = []\n",
    "    \n",
    "    max_index = times.size-m+1\n",
    "    above_min_rate = ((times[m-1:] - times[:max_index]) <= T)\n",
    "    \n",
    "    for i, above_min_rate_ in enumerate(above_min_rate):\n",
    "        if above_min_rate_:\n",
    "            if not in_burst:\n",
    "                in_burst = True\n",
    "                start = times[i]\n",
    "        elif in_burst:\n",
    "            in_burst = False\n",
    "            bursts.append((start, times[i+m-1]))\n",
    "    return bursts"
   ]
  },
  {
   "cell_type": "code",
   "execution_count": 30,
   "metadata": {
    "collapsed": false
   },
   "outputs": [
    {
     "name": "stdout",
     "output_type": "stream",
     "text": [
      "1 loops, best of 3: 244 ms per loop\n"
     ]
    }
   ],
   "source": [
    "bursts_numpy3 = burst_search_numpy3(timestamps, 10, 100e-6)\n",
    "assert bursts_numpy3 == bursts_py\n",
    "%timeit burst_search_numpy3(timestamps, 10, 100e-6)"
   ]
  },
  {
   "cell_type": "markdown",
   "metadata": {},
   "source": [
    "Finally, we can optimize line 13, the else branch that is executed at almost every cycle.\n",
    "To avoid this test we can slightly unwrap the loop:\n",
    "\n",
    "- first we `continue` if not above the rate.\n",
    "- when \"not continuing\", we are inside a burst and we do a mini internal loop until the burst is over\n",
    "- the main loop resumes from a position updated by the inner loop\n",
    "\n",
    "The trick is using the same iterator in the two nested loops:"
   ]
  },
  {
   "cell_type": "code",
   "execution_count": 31,
   "metadata": {
    "collapsed": true
   },
   "outputs": [],
   "source": [
    "def burst_search_numpy4(times, m, T):\n",
    "    bursts = []\n",
    "    \n",
    "    max_index = times.size-m+1\n",
    "    below_min_rate = memoryview((times[m-1:] - times[:max_index]) > T)\n",
    "    \n",
    "    iter_i_belowrate = enumerate((below_min_rate))\n",
    "    for i, below_min_rate_ in iter_i_belowrate:\n",
    "        if below_min_rate_: continue           \n",
    "        \n",
    "        start = times[i]\n",
    "        for i, below_min_rate_ in iter_i_belowrate:\n",
    "            if below_min_rate_: break\n",
    "        \n",
    "        bursts.append((start, times[i+m-1]))\n",
    "    return bursts"
   ]
  },
  {
   "cell_type": "code",
   "execution_count": 32,
   "metadata": {
    "collapsed": false
   },
   "outputs": [
    {
     "name": "stdout",
     "output_type": "stream",
     "text": [
      "10 loops, best of 3: 197 ms per loop\n"
     ]
    }
   ],
   "source": [
    "bursts_numpy4 = burst_search_numpy4(timestamps, 10, 100e-6)\n",
    "assert bursts_numpy4 == bursts_py\n",
    "%timeit burst_search_numpy4(timestamps, 10, 100e-6)"
   ]
  },
  {
   "cell_type": "markdown",
   "metadata": {},
   "source": [
    "Note that I used `memoryview`for a slightly faster iteration than with a numpy array.\n",
    "\n",
    "Finally we use a simpler iterator only for the index and access `below_min_rate`\n",
    "element by element:"
   ]
  },
  {
   "cell_type": "code",
   "execution_count": 33,
   "metadata": {
    "collapsed": true
   },
   "outputs": [],
   "source": [
    "def burst_search_numpy5(times, m, T):\n",
    "    bursts = []\n",
    "    below_min_rate = memoryview((times[m-1:] - times[:times.size-m+1]) > T)\n",
    "    \n",
    "    iter_i = iter(range(len(times)-m+1))\n",
    "    for i in iter_i:\n",
    "        if below_min_rate[i]:\n",
    "            continue\n",
    "        \n",
    "        start = times[i]\n",
    "        for i in iter_i:\n",
    "            if below_min_rate[i]:\n",
    "                break\n",
    "        \n",
    "        bursts.append((start, times[i+m-1]))\n",
    "    return bursts"
   ]
  },
  {
   "cell_type": "code",
   "execution_count": 34,
   "metadata": {
    "collapsed": false
   },
   "outputs": [
    {
     "name": "stdout",
     "output_type": "stream",
     "text": [
      "10 loops, best of 3: 197 ms per loop\n"
     ]
    }
   ],
   "source": [
    "bursts_numpy5 = burst_search_numpy5(timestamps, 10, 100e-6)\n",
    "assert bursts_numpy5 == bursts_py\n",
    "%timeit burst_search_numpy5(timestamps, 10, 100e-6)"
   ]
  },
  {
   "cell_type": "markdown",
   "metadata": {},
   "source": [
    "Overall the last optimizations (3-5) cut another 25-30% to the execution time.\n",
    "More importantly, I found the last version (5) the easiest to read, \n",
    "mainly because of the elimination of the state variable `in_burst`\n",
    "and use a simpler iterator.\n",
    "\n",
    "# Conclusion\n",
    "\n",
    "Starting from a direct pure-python algorithm implementation we found\n",
    "how to profile it (using `line_profiler`) and optimize it in Cython \n",
    "and Numba obtaining, in both cases, a 100x (100 fold!) speed-up.\n",
    "\n",
    "Furthermore, even if the burst search algorithm is not easy to vectorize, \n",
    "a careful analysis of the bottlenecks allowed \n",
    "to obtain a 5x speed-up using only python + numpy.\n",
    "\n",
    "With all these easy-to-use optimization options offered by python, \n",
    "it is easy to fall in the trap of premature optimization. To avoid it,\n",
    "always perform optimization as the last step, and focus only on the \n",
    "bottlenecks highlighted by a profiler.\n",
    "When in doubt, prefer clarity over speed.\n",
    "\n",
    "# See also\n",
    "\n",
    "- [FRETBursts](http://tritemio.github.io/FRETBursts/) A burst analysis \n",
    "  software implementing the techniques illustrated in this post \n",
    "  in a more complete real-world scenario.\n",
    "  \n",
    "> This post is written in Jupyter Notebook. The original notebook\n",
    "> can be downloaded [here](https://github.com/tritemio/smbits/blob/master/content/2015-09/optimize-burst-search-python.ipynb). The content released as [CC BY 2.0](https://creativecommons.org/licenses/by/2.0/)."
   ]
  },
  {
   "cell_type": "code",
   "execution_count": null,
   "metadata": {
    "collapsed": true
   },
   "outputs": [],
   "source": []
  }
 ],
 "metadata": {
  "kernelspec": {
   "display_name": "Python 3",
   "language": "python",
   "name": "python3"
  },
  "language_info": {
   "codemirror_mode": {
    "name": "ipython",
    "version": 3
   },
   "file_extension": ".py",
   "mimetype": "text/x-python",
   "name": "python",
   "nbconvert_exporter": "python",
   "pygments_lexer": "ipython3",
   "version": "3.5.0"
  }
 },
 "nbformat": 4,
 "nbformat_minor": 0
}
