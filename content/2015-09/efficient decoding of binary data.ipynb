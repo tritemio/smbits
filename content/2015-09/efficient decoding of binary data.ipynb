{
 "cells": [
  {
   "cell_type": "markdown",
   "metadata": {},
   "source": [
    "In many experimental sciences, we acquire data from one or more instruments (camera, photodetectors, other sensors, etc...).\n",
    "Oftentimes data is encoded in binary numeric types, structures of numeric types and bit fields.\n",
    "\n",
    "Here I assume we are dealing with \"medium-data\", which is, using [Wes McKinney words](https://twitter.com/wesmckinn/status/413159516096585729):\n",
    "\n",
    "> Medium Data (n): Not too big for a single machine, but too big to be dumb about.\n",
    "\n",
    "We can easily and efficiently read this kind of data using Numpy, the foundational library for any numeric computing in Python. In this post I show the powerful tools numpy offers to \"interpret\" (or decode) binary data."
   ]
  },
  {
   "cell_type": "markdown",
   "metadata": {},
   "source": [
    "## An example of binary-data\n",
    "\n",
    "Recently, I had to read data from a new instrument that sends to the PC \"words\" of 48 bits.\n",
    "\n",
    "The bit layout of the word is:\n",
    "\n",
    "[placeholder]\n",
    "\n",
    "Within each word, the byte order goes from byte1 (the first) to byte6 (the last).\n",
    "The word is comprised of three numeric fields `MT`, `mT`, `CH` (unsigned integers of bit-width 29, 14  and 3 bits respectively), and a few flags (`#B`, `OV`).\n",
    "\n",
    "For the numeric fields, the bit order in parenthesis shows that the most-significant-bit (MSB) is encountered first when reading the word orderly from the first to the last bit. This byte order is called [big-endian](https://en.wikipedia.org/wiki/Endianness) (often indicated by '>').\n",
    "\n",
    "This example can seem fairly convoluted, but is quite common in data from scientific instruments. \n",
    "\n",
    "Let's see how we can decode this data, easily and efficiently, using numpy.\n",
    "\n",
    "## Numpy magics: dtype system\n",
    "\n",
    "This section is a brief digression to introduce numpy's dtype system \n",
    "and arrays \"views\" of binary buffers. \n",
    "\n",
    "One of the most powerful features of numpy is providing a flexible \n",
    "memory model to access numeric data in arbitrary layouts.\n",
    "\n",
    "At the core of the numpy library there is the [ndarray object](http://docs.scipy.org/doc/numpy/reference/generated/numpy.ndarray.html), \n",
    "i.e. a multi-dimentional array of homogeneous data type.\n",
    "\n",
    "The crucial point is: what does numpy accept as homogeneous data type?\n",
    "\n",
    "We can certaintly use all the standard numeric type like \n",
    "integers (signed or unsigned with 8, 16, 32 or 64 bits) or floats \n",
    "(16, 32, 64) or even complex numbers (internally a pair of floats).\n",
    "\n",
    "But what if we want to define a more complex structure?\n",
    "\n",
    "Numpy allows defining structures to be used as array elements: we just\n",
    "need to define a `dtype` describing such a structure. For example, \n",
    "to define a structure of a `unit16` followed by a `float16` we write:"
   ]
  },
  {
   "cell_type": "code",
   "execution_count": 2,
   "metadata": {
    "collapsed": true
   },
   "outputs": [],
   "source": [
    "import numpy as np"
   ]
  },
  {
   "cell_type": "code",
   "execution_count": 5,
   "metadata": {
    "collapsed": false
   },
   "outputs": [
    {
     "data": {
      "text/plain": [
       "dtype([('time', '<i2'), ('humidity', '<f2')])"
      ]
     },
     "execution_count": 5,
     "metadata": {},
     "output_type": "execute_result"
    }
   ],
   "source": [
    "custom_dtype = np.dtype([('time', np.int16), ('humidity', np.float16)])\n",
    "custom_dtype"
   ]
  },
  {
   "cell_type": "markdown",
   "metadata": {},
   "source": [
    "Note that we assigned a name to each field in the structure, in this case\n",
    "\"time\" (a 16-bit integer) and \"humidity\" (a 16-bit float). The '<' sign in\n",
    "the representation indicated little-endian byte order.\n",
    "For alternative syntax to define a new `dtype` see the comprehensive \n",
    "[dtype documentation](http://docs.scipy.org/doc/numpy/reference/arrays.dtypes.html).\n",
    "\n",
    "We can build an array of such a structure specifying the `dtype` argument \n",
    "(accepted by the majority of numpy functions returning arrays) like this:"
   ]
  },
  {
   "cell_type": "code",
   "execution_count": 6,
   "metadata": {
    "collapsed": false
   },
   "outputs": [
    {
     "data": {
      "text/plain": [
       "array([(1, 1.0), (1, 1.0), (1, 1.0), (1, 1.0), (1, 1.0), (1, 1.0)], \n",
       "      dtype=[('time', '<i2'), ('humidity', '<f2')])"
      ]
     },
     "execution_count": 6,
     "metadata": {},
     "output_type": "execute_result"
    }
   ],
   "source": [
    "data = np.ones(6, dtype=custom_dtype)\n",
    "data"
   ]
  },
  {
   "cell_type": "markdown",
   "metadata": {},
   "source": [
    "The previous command defined a 6-element array. Each element of the array is the\n",
    "previously defined structure. Arrays with custom dtypeas are called in numpy\n",
    "[structured arrays](http://docs.scipy.org/doc/numpy-1.10.1/user/basics.rec.html).\n",
    "\n",
    "Let's see a few example of what we can do with such an array.\n",
    "\n",
    "### 1. Scalar to array broadcast\n",
    "\n",
    "Add 10 to all the `time` fields:"
   ]
  },
  {
   "cell_type": "code",
   "execution_count": 63,
   "metadata": {
    "collapsed": false
   },
   "outputs": [
    {
     "data": {
      "text/plain": [
       "array([(11, 1.0), (11, 1.0), (11, 1.0), (11, 1.0), (11, 1.0), (11, 1.0)], \n",
       "      dtype=[('time', '<i2'), ('humidity', '<f2')])"
      ]
     },
     "execution_count": 63,
     "metadata": {},
     "output_type": "execute_result"
    }
   ],
   "source": [
    "data['time'] += 10\n",
    "data"
   ]
  },
  {
   "cell_type": "markdown",
   "metadata": {},
   "source": [
    "### 2. Assign data\n",
    "\n",
    "Assign data to `time` and `humidity` fields:"
   ]
  },
  {
   "cell_type": "code",
   "execution_count": 64,
   "metadata": {
    "collapsed": false
   },
   "outputs": [
    {
     "data": {
      "text/plain": [
       "array([(0, 50.75), (10, 46.40625), (20, 62.1875), (30, 48.78125),\n",
       "       (40, 35.53125), (50, 48.78125)], \n",
       "      dtype=[('time', '<i2'), ('humidity', '<f2')])"
      ]
     },
     "execution_count": 64,
     "metadata": {},
     "output_type": "execute_result"
    }
   ],
   "source": [
    "data['time'] = np.arange(6)*10\n",
    "data['humidity'] = (np.random.randn(6) + 5)*10\n",
    "data"
   ]
  },
  {
   "cell_type": "markdown",
   "metadata": {},
   "source": [
    "### 3. Indexing  and slicing\n",
    "\n",
    "Take element number 3 (the 4th element) of the array:"
   ]
  },
  {
   "cell_type": "code",
   "execution_count": 72,
   "metadata": {
    "collapsed": false
   },
   "outputs": [
    {
     "data": {
      "text/plain": [
       "(30, 48.78125)"
      ]
     },
     "execution_count": 72,
     "metadata": {},
     "output_type": "execute_result"
    }
   ],
   "source": [
    "data[3]"
   ]
  },
  {
   "cell_type": "markdown",
   "metadata": {},
   "source": [
    "A single element contains two values of the two fields.\n",
    "\n",
    "Next, let's take a slice starting at 1 and taking every 2 elements:"
   ]
  },
  {
   "cell_type": "code",
   "execution_count": 65,
   "metadata": {
    "collapsed": false
   },
   "outputs": [
    {
     "data": {
      "text/plain": [
       "array([(10, 46.40625), (30, 48.78125), (50, 48.78125)], \n",
       "      dtype=[('time', '<i2'), ('humidity', '<f2')])"
      ]
     },
     "execution_count": 65,
     "metadata": {},
     "output_type": "execute_result"
    }
   ],
   "source": [
    "data[1::2]"
   ]
  },
  {
   "cell_type": "markdown",
   "metadata": {},
   "source": [
    "This is a new structure array with only the selected elements."
   ]
  },
  {
   "cell_type": "markdown",
   "metadata": {},
   "source": [
    "### 4. View with different dtype"
   ]
  },
  {
   "cell_type": "code",
   "execution_count": 70,
   "metadata": {
    "collapsed": false
   },
   "outputs": [],
   "source": [
    "custom_dtype_b = np.dtype([('byte1', 'u1'), ('byte2', 'u1'), ('humidity', '<f2')])"
   ]
  },
  {
   "cell_type": "code",
   "execution_count": 71,
   "metadata": {
    "collapsed": false
   },
   "outputs": [
    {
     "data": {
      "text/plain": [
       "array([(0, 0, 50.75), (10, 0, 46.40625), (20, 0, 62.1875),\n",
       "       (30, 0, 48.78125), (40, 0, 35.53125), (50, 0, 48.78125)], \n",
       "      dtype=[('byte1', 'u1'), ('byte2', 'u1'), ('humidity', '<f2')])"
      ]
     },
     "execution_count": 71,
     "metadata": {},
     "output_type": "execute_result"
    }
   ],
   "source": [
    "data_b = data.view(custom_dtype_b)\n",
    "data_b"
   ]
  },
  {
   "cell_type": "markdown",
   "metadata": {},
   "source": [
    "In this latter `data_b` points to the same memory as `data`, but it reinterprets the array element with a different structure (the integer is split in 2 bytes)."
   ]
  },
  {
   "cell_type": "markdown",
   "metadata": {},
   "source": [
    "## Let's decode!\n",
    "\n",
    "Before starting let's define a dummy binay buffer:"
   ]
  },
  {
   "cell_type": "code",
   "execution_count": 103,
   "metadata": {
    "collapsed": true
   },
   "outputs": [],
   "source": [
    "buff = b'\\xFF' * (6*4)"
   ]
  },
  {
   "cell_type": "code",
   "execution_count": 104,
   "metadata": {
    "collapsed": false
   },
   "outputs": [
    {
     "data": {
      "text/plain": [
       "24"
      ]
     },
     "execution_count": 104,
     "metadata": {},
     "output_type": "execute_result"
    }
   ],
   "source": [
    "len(buff)"
   ]
  },
  {
   "cell_type": "markdown",
   "metadata": {},
   "source": [
    "In a real world situation this buffer would be read from disc using something like:\n",
    "\n",
    "```\n",
    "with open('datafile.dat', 'br') as f:\n",
    "    buff = f.read()\n",
    "```\n",
    "\n",
    "Coming back to the previous example, we recognize that data has `MT` and `mT` aligned at 32 bit and 16 bit boundaries with big-endian representation.\n",
    "\n",
    "To access those fields we can simply interpret the binary data with the following dtype:"
   ]
  },
  {
   "cell_type": "code",
   "execution_count": 105,
   "metadata": {
    "collapsed": false
   },
   "outputs": [
    {
     "data": {
      "text/plain": [
       "dtype([('timestamps', '>u4'), ('nanotimes', '>u2')])"
      ]
     },
     "execution_count": 105,
     "metadata": {},
     "output_type": "execute_result"
    }
   ],
   "source": [
    "dtype_fields = np.dtype([('timestamps', '>u4'), ('nanotimes', '>u2')])\n",
    "dtype_fields"
   ]
  },
  {
   "cell_type": "markdown",
   "metadata": {},
   "source": [
    "We only need to copy the bits CH, OV, #B first, and then set them to 0 in the original buffer.\n",
    "This operation is easier if we had direct access to the byte contining the 3 bits to save.\n",
    "Easy enough, this byte can be accessed defining a second dtype:"
   ]
  },
  {
   "cell_type": "code",
   "execution_count": 106,
   "metadata": {
    "collapsed": false
   },
   "outputs": [
    {
     "data": {
      "text/plain": [
       "dtype([('byte0', 'u1'), ('byte1', 'u1'), ('byte2', 'u1'), ('byte3', 'u1'), ('byte4', 'u1'), ('byte5', 'u1')])"
      ]
     },
     "execution_count": 106,
     "metadata": {},
     "output_type": "execute_result"
    }
   ],
   "source": [
    "dtype_bytes = np.dtype([('byte%d' % b, 'u1') for b in range(6)])\n",
    "dtype_bytes"
   ]
  },
  {
   "cell_type": "markdown",
   "metadata": {},
   "source": [
    "Now we can \"view\" this binary buffer according to the two different dtypes\n",
    "we previously defined:"
   ]
  },
  {
   "cell_type": "code",
   "execution_count": 107,
   "metadata": {
    "collapsed": false
   },
   "outputs": [
    {
     "data": {
      "text/plain": [
       "array([(4294967295, 65535), (4294967295, 65535), (4294967295, 65535),\n",
       "       (4294967295, 65535)], \n",
       "      dtype=[('timestamps', '>u4'), ('nanotimes', '>u2')])"
      ]
     },
     "execution_count": 107,
     "metadata": {},
     "output_type": "execute_result"
    }
   ],
   "source": [
    "data = np.frombuffer(buff, dtype=dtype_fields)\n",
    "data"
   ]
  },
  {
   "cell_type": "code",
   "execution_count": 108,
   "metadata": {
    "collapsed": false
   },
   "outputs": [
    {
     "data": {
      "text/plain": [
       "array([(255, 255, 255, 255, 255, 255), (255, 255, 255, 255, 255, 255),\n",
       "       (255, 255, 255, 255, 255, 255), (255, 255, 255, 255, 255, 255)], \n",
       "      dtype=[('byte0', 'u1'), ('byte1', 'u1'), ('byte2', 'u1'), ('byte3', 'u1'), ('byte4', 'u1'), ('byte5', 'u1')])"
      ]
     },
     "execution_count": 108,
     "metadata": {},
     "output_type": "execute_result"
    }
   ],
   "source": [
    "datab = np.frombuffer(buff, dtype=dtype_bytes)\n",
    "datab"
   ]
  },
  {
   "cell_type": "markdown",
   "metadata": {},
   "source": [
    "By creating an array from an already existing buffer the data is not\n",
    "copied, is just interpreted according to the passed dtype. In this\n",
    "example `data` and `datab` point to the same binary content\n",
    "in memory, they simply \"view\" the data differently, or \n",
    "they provide different interfaces to the same data.\n",
    "\n",
    "We can use `datab['byte1']` as a normal array containing uint8 elements:"
   ]
  },
  {
   "cell_type": "code",
   "execution_count": 109,
   "metadata": {
    "collapsed": false
   },
   "outputs": [
    {
     "data": {
      "text/plain": [
       "array([255, 255, 255, 255], dtype=uint8)"
      ]
     },
     "execution_count": 109,
     "metadata": {},
     "output_type": "execute_result"
    }
   ],
   "source": [
    "datab['byte0']"
   ]
  },
  {
   "cell_type": "markdown",
   "metadata": {},
   "source": [
    "Let start copying the 3 bits in another array:"
   ]
  },
  {
   "cell_type": "code",
   "execution_count": 110,
   "metadata": {
    "collapsed": false
   },
   "outputs": [
    {
     "data": {
      "text/plain": [
       "array([0, 0, 0, 0], dtype=uint8)"
      ]
     },
     "execution_count": 110,
     "metadata": {},
     "output_type": "execute_result"
    }
   ],
   "source": [
    "bitfields = np.zeros_like(data, dtype='u1')\n",
    "bitfields"
   ]
  },
  {
   "cell_type": "code",
   "execution_count": 111,
   "metadata": {
    "collapsed": false
   },
   "outputs": [
    {
     "data": {
      "text/plain": [
       "array([7, 7, 7, 7], dtype=uint8)"
      ]
     },
     "execution_count": 111,
     "metadata": {},
     "output_type": "execute_result"
    }
   ],
   "source": [
    "bitfields = datab['byte0'].copy()\n",
    "np.right_shift(bitfields, 5, out=bitfields)"
   ]
  },
  {
   "cell_type": "markdown",
   "metadata": {},
   "source": [
    "Then we can set the 3 bit to 0 in the orginal buffer:"
   ]
  },
  {
   "cell_type": "code",
   "execution_count": 112,
   "metadata": {
    "collapsed": false
   },
   "outputs": [],
   "source": [
    "datab.flags.writeable = True\n",
    "datab['byte1'] &= 0x00111111"
   ]
  },
  {
   "cell_type": "markdown",
   "metadata": {},
   "source": [
    "Note that we need to set the array flag `writable` to True\n",
    "in order to be alble to modify the buffer. Having modified\n",
    "the buffer also `data` sees the modified values:"
   ]
  },
  {
   "cell_type": "code",
   "execution_count": 113,
   "metadata": {
    "collapsed": false
   },
   "outputs": [
    {
     "data": {
      "text/plain": [
       "array([(4279369727, 65535), (4279369727, 65535), (4279369727, 65535),\n",
       "       (4279369727, 65535)], \n",
       "      dtype=[('timestamps', '>u4'), ('nanotimes', '>u2')])"
      ]
     },
     "execution_count": 113,
     "metadata": {},
     "output_type": "execute_result"
    }
   ],
   "source": [
    "data"
   ]
  },
  {
   "cell_type": "code",
   "execution_count": 114,
   "metadata": {
    "collapsed": false
   },
   "outputs": [
    {
     "data": {
      "text/plain": [
       "array([4279369727, 4279369727, 4279369727, 4279369727], dtype=uint32)"
      ]
     },
     "execution_count": 114,
     "metadata": {},
     "output_type": "execute_result"
    }
   ],
   "source": [
    "data['timestamps']"
   ]
  },
  {
   "cell_type": "code",
   "execution_count": null,
   "metadata": {
    "collapsed": true
   },
   "outputs": [],
   "source": []
  }
 ],
 "metadata": {
  "kernelspec": {
   "display_name": "Python 3",
   "language": "python",
   "name": "python3"
  },
  "language_info": {
   "codemirror_mode": {
    "name": "ipython",
    "version": 3
   },
   "file_extension": ".py",
   "mimetype": "text/x-python",
   "name": "python",
   "nbconvert_exporter": "python",
   "pygments_lexer": "ipython3",
   "version": "3.5.0"
  }
 },
 "nbformat": 4,
 "nbformat_minor": 0
}
