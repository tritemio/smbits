{
 "cells": [
  {
   "cell_type": "markdown",
   "metadata": {},
   "source": [
    "In many experimental sciences, we acquire data from one or more instruments (camera, photodetectors, other sensors, etc...).\n",
    "Oftentimes data is encoded in binary numeric types, structures of numeric types and bit fields.\n",
    "\n",
    "Here I assume we are dealing with \"medium-data\", which is, using [Wes McKinney words](https://twitter.com/wesmckinn/status/413159516096585729):\n",
    "\n",
    "> Medium Data (n): Not too big for a single machine, but too big to be dumb about.\n",
    "\n",
    "We can easily and efficiently read this kind of data using the cornerstone of numeric computing in Pyhton: the numpy library. In this post I show the powerful tools numpy\n",
    "offers to read and \"interpret\" binary data."
   ]
  },
  {
   "cell_type": "markdown",
   "metadata": {},
   "source": [
    "## A Binary example\n",
    "\n",
    "Lately, I had to read data from a new instrument that sends to the PC \"words\" of 48 bits.\n",
    "\n",
    "The bit layout of the word is:\n",
    "\n",
    "[placeholder]\n",
    "\n",
    "Within each word, the byte order goes from byte1 (the first) to byte6 (the last).\n",
    "The word is comprised of three numeric fields `MT`, `mT`, `CH` (unsigned integers of bit-width 29, 14  and 3 bits respectively), and a few flags (`#B`, `OV`).\n",
    "\n",
    "For the numeric fields, the bit order in parenthesis shows that the most-significant-bit (MSB) is encountered first when reading the word orderly from the first to the last bit. This byte order is called [big-endian](https://en.wikipedia.org/wiki/Endianness) (often indicated by '>').\n",
    "\n",
    "This example can seem fairly convoluted, but is quite common in data from scientific instruments. \n",
    "\n",
    "Let's see how we can decode this data, easily and efficiently, using numpy.\n",
    "\n",
    "## Numpy dtype magics\n",
    "\n",
    "This section is a brief digression to introduce numpy's dtype system \n",
    "and arrays \"views\" of binary buffers. \n",
    "\n",
    "One of the most powerful features of numpy is providing a flexible \n",
    "memory model to access numeric data in arbitrary layouts.\n",
    "\n",
    "At the core of the numpy library there is the ndarray object, i.e. \n",
    "a multi-dimentional array of homogeneous data type.\n",
    "\n",
    "The crucial point is: what does numpy accept as homogeneous data type?\n",
    "\n",
    "Beign a numeric library, we can use all the standard numeric type like \n",
    "integers (signed or unsigned with 8, 16, 32 or 64 bits) or floats \n",
    "(16, 32, 64) or even complex numbers (internally a pair of floats).\n",
    "\n",
    "But what if we want to define a more complex structure?\n",
    "\n",
    "Numpy allows defining structures to be used as array elements by \n",
    "defining a custom `dtype` object. For example, to define a structure \n",
    "of a `unit16` and a `float16` we write:"
   ]
  },
  {
   "cell_type": "code",
   "execution_count": 4,
   "metadata": {
    "collapsed": true
   },
   "outputs": [],
   "source": [
    "import numpy as np"
   ]
  },
  {
   "cell_type": "code",
   "execution_count": 61,
   "metadata": {
    "collapsed": false
   },
   "outputs": [],
   "source": [
    "custom_dtype = np.dtype([('time', np.int16), ('humidity', np.float16)])"
   ]
  },
  {
   "cell_type": "markdown",
   "metadata": {},
   "source": [
    "For general usage of `np.dtype()` see the comprehensive [dtype documentation](http://docs.scipy.org/doc/numpy/reference/arrays.dtypes.html).\n",
    "\n",
    "We can build an array of such a structure specifying the dtype argument (present on almost all numpy functions returning arrays). For examples:"
   ]
  },
  {
   "cell_type": "code",
   "execution_count": 62,
   "metadata": {
    "collapsed": false
   },
   "outputs": [
    {
     "data": {
      "text/plain": [
       "array([(1, 1.0), (1, 1.0), (1, 1.0), (1, 1.0), (1, 1.0), (1, 1.0)], \n",
       "      dtype=[('time', '<i2'), ('humidity', '<f2')])"
      ]
     },
     "execution_count": 62,
     "metadata": {},
     "output_type": "execute_result"
    }
   ],
   "source": [
    "data = np.ones(6, dtype=custom_dtype)\n",
    "data"
   ]
  },
  {
   "cell_type": "markdown",
   "metadata": {},
   "source": [
    "Here we defined a 6-element array. Each element has 4 bytes: the first 2 contain a little-endian integer (`'<i8'`) and the last 2 bytes a little-endian 16-bit float (`'<f2'`).\n",
    "\n",
    "Let's see a few example of what we can do with such an array.\n",
    "\n",
    "**Scalar to array broadcast:**"
   ]
  },
  {
   "cell_type": "code",
   "execution_count": 63,
   "metadata": {
    "collapsed": false
   },
   "outputs": [
    {
     "data": {
      "text/plain": [
       "array([(11, 1.0), (11, 1.0), (11, 1.0), (11, 1.0), (11, 1.0), (11, 1.0)], \n",
       "      dtype=[('time', '<i2'), ('humidity', '<f2')])"
      ]
     },
     "execution_count": 63,
     "metadata": {},
     "output_type": "execute_result"
    }
   ],
   "source": [
    "data['time'] += 10\n",
    "data"
   ]
  },
  {
   "cell_type": "markdown",
   "metadata": {},
   "source": [
    "**Array assignment:**"
   ]
  },
  {
   "cell_type": "code",
   "execution_count": 64,
   "metadata": {
    "collapsed": false
   },
   "outputs": [
    {
     "data": {
      "text/plain": [
       "array([(0, 50.75), (10, 46.40625), (20, 62.1875), (30, 48.78125),\n",
       "       (40, 35.53125), (50, 48.78125)], \n",
       "      dtype=[('time', '<i2'), ('humidity', '<f2')])"
      ]
     },
     "execution_count": 64,
     "metadata": {},
     "output_type": "execute_result"
    }
   ],
   "source": [
    "data['time'] = np.arange(6)*10\n",
    "data['humidity'] = (np.random.randn(6) + 5)*10\n",
    "data"
   ]
  },
  {
   "cell_type": "markdown",
   "metadata": {},
   "source": [
    "**Indexing  and slicing:**"
   ]
  },
  {
   "cell_type": "code",
   "execution_count": 72,
   "metadata": {
    "collapsed": false
   },
   "outputs": [
    {
     "data": {
      "text/plain": [
       "(30, 48.78125)"
      ]
     },
     "execution_count": 72,
     "metadata": {},
     "output_type": "execute_result"
    }
   ],
   "source": [
    "data[3]"
   ]
  },
  {
   "cell_type": "code",
   "execution_count": 65,
   "metadata": {
    "collapsed": false
   },
   "outputs": [
    {
     "data": {
      "text/plain": [
       "array([(10, 46.40625), (30, 48.78125), (50, 48.78125)], \n",
       "      dtype=[('time', '<i2'), ('humidity', '<f2')])"
      ]
     },
     "execution_count": 65,
     "metadata": {},
     "output_type": "execute_result"
    }
   ],
   "source": [
    "data[1::2]"
   ]
  },
  {
   "cell_type": "markdown",
   "metadata": {},
   "source": [
    "**View with different dtype:**"
   ]
  },
  {
   "cell_type": "code",
   "execution_count": 70,
   "metadata": {
    "collapsed": false
   },
   "outputs": [],
   "source": [
    "custom_dtype_b = np.dtype([('byte1', 'u1'), ('byte2', 'u1'), ('humidity', '<f2')])"
   ]
  },
  {
   "cell_type": "code",
   "execution_count": 71,
   "metadata": {
    "collapsed": false
   },
   "outputs": [
    {
     "data": {
      "text/plain": [
       "array([(0, 0, 50.75), (10, 0, 46.40625), (20, 0, 62.1875),\n",
       "       (30, 0, 48.78125), (40, 0, 35.53125), (50, 0, 48.78125)], \n",
       "      dtype=[('byte1', 'u1'), ('byte2', 'u1'), ('humidity', '<f2')])"
      ]
     },
     "execution_count": 71,
     "metadata": {},
     "output_type": "execute_result"
    }
   ],
   "source": [
    "data_b = data.view(custom_dtype_b)\n",
    "data_b"
   ]
  },
  {
   "cell_type": "markdown",
   "metadata": {},
   "source": [
    "In this latter `data_b` points to the same memory as `data`, but it reinterprets the array element with a different structure (the integer is split in 2 bytes)."
   ]
  },
  {
   "cell_type": "markdown",
   "metadata": {},
   "source": [
    "## Let's decode!\n",
    "\n",
    "Coming back to the previous example, we recognize that data has `MT` and `mT` aligned at 32 bit and 16 bit boundaries with big-endian representation.\n",
    "\n",
    "To access those fields we can simply interpret the binary data with the following dtype:"
   ]
  },
  {
   "cell_type": "code",
   "execution_count": 40,
   "metadata": {
    "collapsed": true
   },
   "outputs": [],
   "source": [
    "dtype_fields = np.dtype([('timestamps', '>u4'), ('nanotimes', '>u2')])"
   ]
  },
  {
   "cell_type": "markdown",
   "metadata": {},
   "source": [
    "We only need to copy the other bits in CH, OV, #B and set them to 0 in the original buffer.\n",
    "Would be convenient to access the single bytes, operation easily accomplished by defining a second dtype:"
   ]
  },
  {
   "cell_type": "code",
   "execution_count": 86,
   "metadata": {
    "collapsed": false
   },
   "outputs": [
    {
     "data": {
      "text/plain": [
       "dtype([('byte1', 'u1'), ('byte2', 'u1'), ('byte3', 'u1'), ('byte4', 'u1')])"
      ]
     },
     "execution_count": 86,
     "metadata": {},
     "output_type": "execute_result"
    }
   ],
   "source": [
    "dtype_bytes = np.dtype([('byte%d' % b, 'u1') for b in range(1, 5)])\n",
    "dtype_bytes"
   ]
  },
  {
   "cell_type": "code",
   "execution_count": null,
   "metadata": {
    "collapsed": true
   },
   "outputs": [],
   "source": []
  }
 ],
 "metadata": {
  "kernelspec": {
   "display_name": "Python 3",
   "language": "python",
   "name": "python3"
  },
  "language_info": {
   "codemirror_mode": {
    "name": "ipython",
    "version": 3
   },
   "file_extension": ".py",
   "mimetype": "text/x-python",
   "name": "python",
   "nbconvert_exporter": "python",
   "pygments_lexer": "ipython3",
   "version": "3.4.3"
  }
 },
 "nbformat": 4,
 "nbformat_minor": 0
}
